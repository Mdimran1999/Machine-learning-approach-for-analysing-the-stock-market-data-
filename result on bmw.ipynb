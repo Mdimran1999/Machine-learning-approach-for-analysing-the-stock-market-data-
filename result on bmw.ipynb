{
 "cells": [
  {
   "cell_type": "code",
   "execution_count": 6,
   "id": "6bb268f3",
   "metadata": {},
   "outputs": [],
   "source": [
    "import pandas as pd\n",
    "import numpy as np\n",
    "from sklearn.model_selection import train_test_split\n",
    "from sklearn.preprocessing import StandardScaler, LabelEncoder\n",
    "from sklearn.ensemble import RandomForestClassifier, ExtraTreesClassifier\n",
    "from sklearn.svm import SVC\n",
    "from sklearn.linear_model import LogisticRegression\n",
    "from sklearn.tree import DecisionTreeClassifier\n",
    "from sklearn.neighbors import KNeighborsClassifier\n",
    "from sklearn.naive_bayes import GaussianNB\n",
    "from sklearn.metrics  import accuracy_score, f1_score, precision_score, recall_score\n",
    "from sklearn.model_selection import GridSearchCV\n",
    "\n",
    "\n",
    "dataset_path = 'BMWclass_data.csv'\n",
    "df = pd.read_csv('BMWclass_data.csv')\n",
    "\n",
    "# Extract dataset name from the file path\n",
    "dataset_name = dataset_path.split('/')[-1].split('.')[0] \n"
   ]
  },
  {
   "cell_type": "code",
   "execution_count": 7,
   "id": "b3cf73c6",
   "metadata": {},
   "outputs": [
    {
     "data": {
      "text/plain": [
       "<bound method NDFrame.head of             Date       Open       High        Low      Close  Adj Close  \\\n",
       "0     2009-12-29  15.290000  15.380000  15.280000  15.370000   8.740845   \n",
       "1     2009-12-30  15.200000  15.300000  15.150000  15.200000   8.644167   \n",
       "2     2010-01-04  15.510000  15.510000  15.350000  15.350000   8.729471   \n",
       "3     2010-01-05  15.340000  15.600000  15.340000  15.600000   8.871645   \n",
       "4     2010-01-06  15.600000  15.860000  15.600000  15.850000   9.013818   \n",
       "...          ...        ...        ...        ...        ...        ...   \n",
       "2086  2022-12-16  29.299999  29.370001  28.980000  29.120001  26.865105   \n",
       "2087  2022-12-22  29.510000  29.510000  29.180000  29.420000  27.141874   \n",
       "2088  2022-12-28  29.559999  29.559999  29.270000  29.290001  27.021942   \n",
       "2089  2022-12-29  29.620001  29.840000  29.620001  29.799999  27.492449   \n",
       "2090  2022-12-30  29.770000  29.770000  29.450001  29.660000  27.363289   \n",
       "\n",
       "      Volume      MACD        RSI      MA        EMA     SMA       STD  \\\n",
       "0       9600       NaN        NaN     NaN        NaN     NaN       NaN   \n",
       "1       8100       NaN        NaN  15.285  15.285000  15.285  0.085000   \n",
       "2      12600       NaN  64.000076  15.270  15.307222  15.270  0.080000   \n",
       "3      18900       NaN  87.999995  15.475  15.502408  15.475  0.125000   \n",
       "4       8700       NaN  94.857137  15.725  15.734136  15.725  0.125000   \n",
       "...      ...       ...        ...     ...        ...     ...       ...   \n",
       "2086   70900  0.506858   4.317966  29.260  29.242156  29.260  0.139999   \n",
       "2087   74500  0.381273  35.090248  29.520  29.466940  29.520  0.100000   \n",
       "2088   36700  0.297748  15.039351  29.425  29.375813  29.425  0.134999   \n",
       "2089   39700  0.302631  78.243149  29.545  29.658604  29.545  0.254999   \n",
       "2090   41300  0.291840  55.553634  29.730  29.659535  29.730  0.070000   \n",
       "\n",
       "          Upper      Lower  PatternClass  \n",
       "0           NaN        NaN             6  \n",
       "1     15.455000  15.115000             1  \n",
       "2     15.430001  15.109999             3  \n",
       "3     15.725000  15.225000             2  \n",
       "4     15.975000  15.475000             6  \n",
       "...         ...        ...           ...  \n",
       "2086  29.539999  28.980001             4  \n",
       "2087  29.720001  29.320000             4  \n",
       "2088  29.694999  29.155002             4  \n",
       "2089  30.054998  29.035002             6  \n",
       "2090  29.869999  29.590000             4  \n",
       "\n",
       "[2091 rows x 16 columns]>"
      ]
     },
     "execution_count": 7,
     "metadata": {},
     "output_type": "execute_result"
    }
   ],
   "source": [
    "df.head"
   ]
  },
  {
   "cell_type": "code",
   "execution_count": 8,
   "id": "2b5784d7",
   "metadata": {},
   "outputs": [
    {
     "name": "stdout",
     "output_type": "stream",
     "text": [
      "Feature Columns: Index(['PatternClass', 'Open', 'High', 'Low', 'Close', 'Volume', 'Adj Close'], dtype='object')\n"
     ]
    },
    {
     "name": "stderr",
     "output_type": "stream",
     "text": [
      "C:\\Users\\ASUS\\AppData\\Local\\Temp\\ipykernel_9484\\377009696.py:74: FutureWarning: The frame.append method is deprecated and will be removed from pandas in a future version. Use pandas.concat instead.\n",
      "  results_df = results_df.append({'Classifier': classifier_name, 'Accuracy': accuracy, 'F1 Score': f1,'Precision': precision, 'Recall': recall}, ignore_index=True)\n",
      "C:\\Users\\ASUS\\AppData\\Local\\Temp\\ipykernel_9484\\377009696.py:74: FutureWarning: The frame.append method is deprecated and will be removed from pandas in a future version. Use pandas.concat instead.\n",
      "  results_df = results_df.append({'Classifier': classifier_name, 'Accuracy': accuracy, 'F1 Score': f1,'Precision': precision, 'Recall': recall}, ignore_index=True)\n",
      "C:\\ProgramData\\Anaconda3\\lib\\site-packages\\sklearn\\metrics\\_classification.py:1318: UndefinedMetricWarning: Precision is ill-defined and being set to 0.0 in labels with no predicted samples. Use `zero_division` parameter to control this behavior.\n",
      "  _warn_prf(average, modifier, msg_start, len(result))\n",
      "C:\\Users\\ASUS\\AppData\\Local\\Temp\\ipykernel_9484\\377009696.py:74: FutureWarning: The frame.append method is deprecated and will be removed from pandas in a future version. Use pandas.concat instead.\n",
      "  results_df = results_df.append({'Classifier': classifier_name, 'Accuracy': accuracy, 'F1 Score': f1,'Precision': precision, 'Recall': recall}, ignore_index=True)\n",
      "C:\\Users\\ASUS\\AppData\\Local\\Temp\\ipykernel_9484\\377009696.py:74: FutureWarning: The frame.append method is deprecated and will be removed from pandas in a future version. Use pandas.concat instead.\n",
      "  results_df = results_df.append({'Classifier': classifier_name, 'Accuracy': accuracy, 'F1 Score': f1,'Precision': precision, 'Recall': recall}, ignore_index=True)\n",
      "C:\\ProgramData\\Anaconda3\\lib\\site-packages\\sklearn\\neighbors\\_classification.py:228: FutureWarning: Unlike other reduction functions (e.g. `skew`, `kurtosis`), the default behavior of `mode` typically preserves the axis it acts along. In SciPy 1.11.0, this behavior will change: the default value of `keepdims` will become False, the `axis` over which the statistic is taken will be eliminated, and the value None will no longer be accepted. Set `keepdims` to True or False to avoid this warning.\n",
      "  mode, _ = stats.mode(_y[neigh_ind, k], axis=1)\n",
      "C:\\Users\\ASUS\\AppData\\Local\\Temp\\ipykernel_9484\\377009696.py:74: FutureWarning: The frame.append method is deprecated and will be removed from pandas in a future version. Use pandas.concat instead.\n",
      "  results_df = results_df.append({'Classifier': classifier_name, 'Accuracy': accuracy, 'F1 Score': f1,'Precision': precision, 'Recall': recall}, ignore_index=True)\n",
      "C:\\Users\\ASUS\\AppData\\Local\\Temp\\ipykernel_9484\\377009696.py:74: FutureWarning: The frame.append method is deprecated and will be removed from pandas in a future version. Use pandas.concat instead.\n",
      "  results_df = results_df.append({'Classifier': classifier_name, 'Accuracy': accuracy, 'F1 Score': f1,'Precision': precision, 'Recall': recall}, ignore_index=True)\n"
     ]
    },
    {
     "name": "stdout",
     "output_type": "stream",
     "text": [
      "Dataset Name: BMWclass_data\n",
      "\n",
      "            Classifier  Accuracy  F1 Score  Precision    Recall\n",
      "0        Random Forest  0.993631  0.993282   0.994290  0.993631\n",
      "1                  SVM  0.990446  0.990275   0.991769  0.990446\n",
      "2  Logistic Regression  0.971338  0.957454   0.944412  0.971338\n",
      "3        Decision Tree  1.000000  1.000000   1.000000  1.000000\n",
      "4                  KNN  0.966561  0.958855   0.966762  0.966561\n",
      "5          Naive Bayes  1.000000  1.000000   1.000000  1.000000\n",
      "6          Extra Trees  0.995223  0.995054   0.995423  0.995223\n"
     ]
    },
    {
     "name": "stderr",
     "output_type": "stream",
     "text": [
      "C:\\Users\\ASUS\\AppData\\Local\\Temp\\ipykernel_9484\\377009696.py:74: FutureWarning: The frame.append method is deprecated and will be removed from pandas in a future version. Use pandas.concat instead.\n",
      "  results_df = results_df.append({'Classifier': classifier_name, 'Accuracy': accuracy, 'F1 Score': f1,'Precision': precision, 'Recall': recall}, ignore_index=True)\n"
     ]
    }
   ],
   "source": [
    "\n",
    "\n",
    "# Load your OHLC dataset with indicators\n",
    "# Replace 'your_dataset.csv' with the actual file path or DataFrame variable\n",
    "\n",
    "\n",
    "# Assuming 'PatternClass' column is already defined in your dataset\n",
    "\n",
    "# Remove rows where PatternClass is 0 (No Pattern)\n",
    "df = df[df['PatternClass'] != 0]\n",
    "\n",
    "# Convert 'Date' to datetime and extract relevant features\n",
    "df['Date'] = pd.to_datetime(df['Date'])\n",
    "df['Year'] = df['Date'].dt.year\n",
    "df['Month'] = df['Date'].dt.month\n",
    "df['Day'] = df['Date'].dt.day\n",
    "\n",
    "# Select features (X) and target variable (y)\n",
    "X = df.drop(['PatternClass', 'Date', 'Open', 'High', 'Low', 'Close','Volume','Adj Close'], axis=1)\n",
    "selected_features = ['PatternClass', 'Open', 'High', 'Low', 'Close','Volume','Adj Close']  # Replace with your actual feature names\n",
    "X = df[selected_features]\n",
    "\n",
    "y = df['PatternClass']\n",
    "print(\"Feature Columns:\", X.columns)\n",
    "\n",
    "# Handle missing values by filling with mean\n",
    "X = X.fillna(X.mean())\n",
    "\n",
    "# Check for and handle infinite values\n",
    "X.replace([np.inf, -np.inf], np.nan, inplace=True)\n",
    "X = X.fillna(0)  # You can customize the filling strategy based on your data\n",
    "\n",
    "# Encode any categorical variables if necessary\n",
    "label_encoder = LabelEncoder()\n",
    "X_encoded = X.apply(lambda col: label_encoder.fit_transform(col.astype(str)) if col.dtype == 'O' else col)\n",
    "\n",
    "# Split the data into training and testing sets\n",
    "X_train, X_test, y_train, y_test = train_test_split(X_encoded, y, test_size=0.3, random_state=2)\n",
    "\n",
    "# Feature Scaling\n",
    "scaler = StandardScaler()\n",
    "X_train_scaled = scaler.fit_transform(X_train)\n",
    "X_test_scaled = scaler.transform(X_test)\n",
    "\n",
    "# Initialize the classifiers\n",
    "rf_classifier = RandomForestClassifier(random_state=100, n_estimators=100)\n",
    "svm_classifier = SVC(random_state=100)\n",
    "logreg_classifier = LogisticRegression(random_state=100)\n",
    "dt_classifier = DecisionTreeClassifier(random_state=100)\n",
    "knn_classifier = KNeighborsClassifier()\n",
    "nb_classifier = GaussianNB()\n",
    "extra_trees_classifier = ExtraTreesClassifier(random_state=100, n_estimators=100)  # Added Extra Trees Classifier\n",
    "\n",
    "# List of classifiers\n",
    "classifiers = [rf_classifier, svm_classifier, logreg_classifier, dt_classifier, knn_classifier, nb_classifier, extra_trees_classifier]\n",
    "classifier_names = ['Random Forest', 'SVM', 'Logistic Regression', 'Decision Tree', 'KNN', 'Naive Bayes', 'Extra Trees']\n",
    "\n",
    "# Initialize DataFrame to store results\n",
    "results_df = pd.DataFrame(columns=['Classifier', 'Accuracy', 'F1 Score'])\n",
    "\n",
    "# Loop through each classifier\n",
    "for classifier, classifier_name in zip(classifiers, classifier_names):\n",
    "    # Train the classifier\n",
    "    classifier.fit(X_train_scaled, y_train)\n",
    "\n",
    "    # Make predictions on the test set\n",
    "    y_pred = classifier.predict(X_test_scaled)\n",
    "\n",
    "   # Evaluate the classifier\n",
    "    accuracy = accuracy_score(y_test, y_pred)\n",
    "    f1 = f1_score(y_test, y_pred, average='weighted')\n",
    "    precision = precision_score(y_test, y_pred, average='weighted')\n",
    "    recall = recall_score(y_test, y_pred, average='weighted')\n",
    "\n",
    "    # Append results to the DataFrame\n",
    "    results_df = results_df.append({'Classifier': classifier_name, 'Accuracy': accuracy, 'F1 Score': f1,'Precision': precision, 'Recall': recall}, ignore_index=True)\n",
    "\n",
    "# Display the results and name of dataset\n",
    "print(f\"Dataset Name: {dataset_name}\")\n",
    "print()\n",
    "print(results_df)\n",
    "\n"
   ]
  },
  {
   "cell_type": "code",
   "execution_count": null,
   "id": "5e091163",
   "metadata": {},
   "outputs": [],
   "source": []
  }
 ],
 "metadata": {
  "kernelspec": {
   "display_name": "Python 3 (ipykernel)",
   "language": "python",
   "name": "python3"
  },
  "language_info": {
   "codemirror_mode": {
    "name": "ipython",
    "version": 3
   },
   "file_extension": ".py",
   "mimetype": "text/x-python",
   "name": "python",
   "nbconvert_exporter": "python",
   "pygments_lexer": "ipython3",
   "version": "3.9.13"
  }
 },
 "nbformat": 4,
 "nbformat_minor": 5
}
